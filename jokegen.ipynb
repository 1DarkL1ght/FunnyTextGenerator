{
 "cells": [
  {
   "cell_type": "code",
   "execution_count": 1,
   "id": "a7dbad73-b930-4c93-b26c-3d42bf561569",
   "metadata": {},
   "outputs": [],
   "source": [
    "import pandas as pd\n",
    "import torch\n",
    "from torch import nn\n",
    "from torch.optim import Adam\n",
    "import matplotlib.pyplot as plt\n",
    "import seaborn as sns\n",
    "from transformers import get_linear_schedule_with_warmup\n",
    "from torch.cuda.amp import GradScaler, autocast\n",
    "from tqdm.notebook import tqdm\n",
    "from datetime import datetime\n",
    "import math\n",
    "import torch.nn.functional as F"
   ]
  },
  {
   "cell_type": "code",
   "execution_count": 2,
   "id": "8980ed38-c111-4450-b3c2-0913d5e4b85a",
   "metadata": {},
   "outputs": [
    {
     "data": {
      "text/html": [
       "<div>\n",
       "<style scoped>\n",
       "    .dataframe tbody tr th:only-of-type {\n",
       "        vertical-align: middle;\n",
       "    }\n",
       "\n",
       "    .dataframe tbody tr th {\n",
       "        vertical-align: top;\n",
       "    }\n",
       "\n",
       "    .dataframe thead th {\n",
       "        text-align: right;\n",
       "    }\n",
       "</style>\n",
       "<table border=\"1\" class=\"dataframe\">\n",
       "  <thead>\n",
       "    <tr style=\"text-align: right;\">\n",
       "      <th></th>\n",
       "      <th>Text</th>\n",
       "    </tr>\n",
       "  </thead>\n",
       "  <tbody>\n",
       "    <tr>\n",
       "      <th>0</th>\n",
       "      <td>Брат ебет сестру. Она ему говорит \\n \\n-А ты е...</td>\n",
       "    </tr>\n",
       "    <tr>\n",
       "      <th>1</th>\n",
       "      <td>Идет суд. Судья: \\n— Свидетель Георгадзе! \\nТи...</td>\n",
       "    </tr>\n",
       "    <tr>\n",
       "      <th>2</th>\n",
       "      <td>Идет мужик на свидание. В белой рубашечке, кос...</td>\n",
       "    </tr>\n",
       "    <tr>\n",
       "      <th>3</th>\n",
       "      <td>Многие мужчины очень романтичные и любят, когд...</td>\n",
       "    </tr>\n",
       "    <tr>\n",
       "      <th>4</th>\n",
       "      <td>Дедушка с бабушкой нашли под кроватью у Колобк...</td>\n",
       "    </tr>\n",
       "  </tbody>\n",
       "</table>\n",
       "</div>"
      ],
      "text/plain": [
       "                                                Text\n",
       "0  Брат ебет сестру. Она ему говорит \\n \\n-А ты е...\n",
       "1  Идет суд. Судья: \\n— Свидетель Георгадзе! \\nТи...\n",
       "2  Идет мужик на свидание. В белой рубашечке, кос...\n",
       "3  Многие мужчины очень романтичные и любят, когд...\n",
       "4  Дедушка с бабушкой нашли под кроватью у Колобк..."
      ]
     },
     "execution_count": 2,
     "metadata": {},
     "output_type": "execute_result"
    }
   ],
   "source": [
    "df = pd.read_csv('cleaned_output_vk.csv', encoding='utf-8')\n",
    "df.head()"
   ]
  },
  {
   "cell_type": "code",
   "execution_count": 3,
   "id": "dba72744-43fe-4279-8cc8-85caa28517d8",
   "metadata": {},
   "outputs": [],
   "source": [
    "df['Text'].astype(str).to_csv('train_texts.txt', index=False, header=False)"
   ]
  },
  {
   "cell_type": "code",
   "execution_count": 4,
   "id": "0e465a43-127b-4b7a-8951-dc64fa5891f1",
   "metadata": {
    "scrolled": true
   },
   "outputs": [
    {
     "name": "stdout",
     "output_type": "stream",
     "text": [
      "Requirement already satisfied: tokenizers in c:\\users\\georg\\appdata\\local\\programs\\python\\python311\\lib\\site-packages (0.21.0)\n",
      "Requirement already satisfied: huggingface-hub<1.0,>=0.16.4 in c:\\users\\georg\\appdata\\local\\programs\\python\\python311\\lib\\site-packages (from tokenizers) (0.29.2)\n",
      "Requirement already satisfied: filelock in c:\\users\\georg\\appdata\\local\\programs\\python\\python311\\lib\\site-packages (from huggingface-hub<1.0,>=0.16.4->tokenizers) (3.9.0)\n",
      "Requirement already satisfied: fsspec>=2023.5.0 in c:\\users\\georg\\appdata\\local\\programs\\python\\python311\\lib\\site-packages (from huggingface-hub<1.0,>=0.16.4->tokenizers) (2025.2.0)\n",
      "Requirement already satisfied: packaging>=20.9 in c:\\users\\georg\\appdata\\local\\programs\\python\\python311\\lib\\site-packages (from huggingface-hub<1.0,>=0.16.4->tokenizers) (24.2)\n",
      "Requirement already satisfied: pyyaml>=5.1 in c:\\users\\georg\\appdata\\local\\programs\\python\\python311\\lib\\site-packages (from huggingface-hub<1.0,>=0.16.4->tokenizers) (6.0.2)\n",
      "Requirement already satisfied: requests in c:\\users\\georg\\appdata\\local\\programs\\python\\python311\\lib\\site-packages (from huggingface-hub<1.0,>=0.16.4->tokenizers) (2.32.3)\n",
      "Requirement already satisfied: tqdm>=4.42.1 in c:\\users\\georg\\appdata\\local\\programs\\python\\python311\\lib\\site-packages (from huggingface-hub<1.0,>=0.16.4->tokenizers) (4.67.1)\n",
      "Requirement already satisfied: typing-extensions>=3.7.4.3 in c:\\users\\georg\\appdata\\local\\programs\\python\\python311\\lib\\site-packages (from huggingface-hub<1.0,>=0.16.4->tokenizers) (4.12.2)\n",
      "Requirement already satisfied: colorama in c:\\users\\georg\\appdata\\local\\programs\\python\\python311\\lib\\site-packages (from tqdm>=4.42.1->huggingface-hub<1.0,>=0.16.4->tokenizers) (0.4.6)\n",
      "Requirement already satisfied: charset-normalizer<4,>=2 in c:\\users\\georg\\appdata\\local\\programs\\python\\python311\\lib\\site-packages (from requests->huggingface-hub<1.0,>=0.16.4->tokenizers) (2.1.1)\n",
      "Requirement already satisfied: idna<4,>=2.5 in c:\\users\\georg\\appdata\\local\\programs\\python\\python311\\lib\\site-packages (from requests->huggingface-hub<1.0,>=0.16.4->tokenizers) (3.4)\n",
      "Requirement already satisfied: urllib3<3,>=1.21.1 in c:\\users\\georg\\appdata\\local\\programs\\python\\python311\\lib\\site-packages (from requests->huggingface-hub<1.0,>=0.16.4->tokenizers) (1.26.13)\n",
      "Requirement already satisfied: certifi>=2017.4.17 in c:\\users\\georg\\appdata\\local\\programs\\python\\python311\\lib\\site-packages (from requests->huggingface-hub<1.0,>=0.16.4->tokenizers) (2022.12.7)\n"
     ]
    },
    {
     "name": "stderr",
     "output_type": "stream",
     "text": [
      "\n",
      "[notice] A new release of pip is available: 24.0 -> 25.1.1\n",
      "[notice] To update, run: python.exe -m pip install --upgrade pip\n"
     ]
    }
   ],
   "source": [
    "!pip install tokenizers"
   ]
  },
  {
   "cell_type": "code",
   "execution_count": 5,
   "id": "dde63368-d49e-4151-8829-cf6fd61439a8",
   "metadata": {},
   "outputs": [],
   "source": [
    "from tokenizers import Tokenizer\n",
    "from tokenizers.models import BPE\n",
    "from tokenizers.trainers import BpeTrainer\n",
    "from tokenizers.pre_tokenizers import Whitespace\n",
    "from tokenizers.processors import TemplateProcessing\n",
    "from transformers import DataCollatorWithPadding"
   ]
  },
  {
   "cell_type": "code",
   "execution_count": 6,
   "id": "9e828400-bff0-4c6c-8fa6-10252d2dd0e3",
   "metadata": {},
   "outputs": [],
   "source": [
    "tokenizer = Tokenizer(BPE(unk_token=\"[UNK]\"))\n",
    "tokenizer.pre_tokenizer = Whitespace()  # Предварительное разбиение по пробелам"
   ]
  },
  {
   "cell_type": "code",
   "execution_count": 7,
   "id": "c0af0d5f-1047-48cc-9257-168aa2edfae4",
   "metadata": {},
   "outputs": [],
   "source": [
    "trainer = BpeTrainer(\n",
    "    vocab_size=10000,  # Размер словаря\n",
    "    min_frequency=2,  # Игнорировать пары, встречающиеся реже 2 раз\n",
    "    special_tokens=[\"[PAD]\", \"[EOS]\"]\n",
    ")"
   ]
  },
  {
   "cell_type": "code",
   "execution_count": 8,
   "id": "b71518f4-6c36-4d7f-80ca-fc57716eb93d",
   "metadata": {},
   "outputs": [],
   "source": [
    "tokenizer.train_from_iterator(df['Text'], trainer=trainer)"
   ]
  },
  {
   "cell_type": "code",
   "execution_count": 9,
   "id": "f5e8b2b2-872b-4387-9f46-bde3eaf8f822",
   "metadata": {},
   "outputs": [],
   "source": [
    "eos_id = tokenizer.token_to_id(\"[EOS]\")\n",
    "tokenizer.post_processor = TemplateProcessing(\n",
    "    single=\"$A [EOS]\",\n",
    "    special_tokens=[(\"[EOS]\", eos_id)]\n",
    ")"
   ]
  },
  {
   "cell_type": "code",
   "execution_count": 10,
   "id": "aa554510-0d45-4ffc-b27d-6e3139e78047",
   "metadata": {},
   "outputs": [],
   "source": [
    "df['Tokenized'] = df['Text'].apply(lambda x: tokenizer.encode(x).ids)"
   ]
  },
  {
   "cell_type": "code",
   "execution_count": 11,
   "id": "04b6100b-2b7d-468f-ac26-945cd4fce64a",
   "metadata": {},
   "outputs": [
    {
     "data": {
      "text/plain": [
       "Text(0.5, 1.0, 'length Distribution')"
      ]
     },
     "execution_count": 11,
     "metadata": {},
     "output_type": "execute_result"
    },
    {
     "data": {
      "image/png": "[encoded data removed]",
      "text/plain": [
       "<Figure size 800x600 with 1 Axes>"
      ]
     },
     "metadata": {},
     "output_type": "display_data"
    }
   ],
   "source": [
    "seq_lengths = [len(row['Tokenized']) for idx, row in df.iterrows()]\n",
    "\n",
    "plt.figure(figsize=(8, 6))\n",
    "sns.histplot(seq_lengths, color='blue', label='Sequence lengths', kde=False, bins=30)\n",
    "plt.xlabel(\"Sequence lengths\")\n",
    "plt.ylabel(\"Frequency\")\n",
    "plt.legend()\n",
    "plt.title(\"length Distribution\")"
   ]
  },
  {
   "cell_type": "code",
   "execution_count": 12,
   "id": "4a971c5d-d7d8-4861-93f6-f786b19e45c1",
   "metadata": {},
   "outputs": [
    {
     "name": "stdout",
     "output_type": "stream",
     "text": [
      "Исходный текст: Брат ебет сестру. Она ему говорит \n",
      " \n",
      "-А ты ебешься лучше чем отец. \n",
      " \n",
      "-Я знаю, мне мама говорила.\n",
      "Токенизированные ID: [7023, 4710, 6703, 15, 1320, 739, 728, 14, 173, 708, 9385, 3024, 1615, 903, 1475, 15, 14, 204, 1296, 13, 805, 1727, 6232, 15, 1]\n",
      "Декодированный текст: Брат ебет сестру . Она ему говорит - А ты ебе шься лучше чем отец . - Я знаю , мне мама говорила .\n"
     ]
    }
   ],
   "source": [
    "sample_text = df['Text'].iloc[0]\n",
    "encoded = tokenizer.encode(sample_text)\n",
    "print(f\"Исходный текст: {sample_text}\")\n",
    "print(f\"Токенизированные ID: {encoded.ids}\")\n",
    "print(f\"Декодированный текст: {tokenizer.decode(encoded.ids)}\")"
   ]
  },
  {
   "cell_type": "code",
   "execution_count": 13,
   "id": "ea7ba81f-66e0-44d5-8256-44d76d7459a6",
   "metadata": {},
   "outputs": [],
   "source": [
    "# for dataset when batching\n",
    "# data_collator = DataCollatorWithPadding(tokenizer=tokenizer, padding=True) <- add [PAD] tokens"
   ]
  },
  {
   "cell_type": "code",
   "execution_count": 14,
   "id": "f36de37a-89fd-47e6-b36c-171042d90f3a",
   "metadata": {},
   "outputs": [],
   "source": [
    "tokenizer.save(\"bpe_tokenizer.json\")\n",
    "tokenizer = Tokenizer.from_file(\"bpe_tokenizer.json\")"
   ]
  },
  {
   "cell_type": "code",
   "execution_count": 15,
   "id": "558efc0e-caa9-4694-b746-92b34f0e2bbb",
   "metadata": {},
   "outputs": [],
   "source": [
    "class PositionalEncoding(nn.Module):\n",
    "   def __init__(self, d_model, max_len=512):\n",
    "       super(PositionalEncoding, self).__init__()\n",
    "       self.d_model = d_model\n",
    "       self.max_len = max_len\n",
    "\n",
    "       # Create a positional encoding matrix\n",
    "       pe = torch.zeros(max_len, d_model)\n",
    "       position = torch.arange(0, max_len, dtype=torch.float32).unsqueeze(1)\n",
    "       div_term = torch.exp(torch.arange(0, d_model, 2).float() * (-torch.log(torch.tensor(10000.0)) / d_model))\n",
    "       pe[:, 0::2] = torch.sin(position * div_term)\n",
    "       pe[:, 1::2] = torch.cos(position * div_term)\n",
    "       pe = pe.unsqueeze(0)\n",
    "        \n",
    "       self.register_buffer('pe', pe)\n",
    "\n",
    "   def forward(self, x):\n",
    "       # Add positional embeddings to input token embeddings\n",
    "       # print(f'pe shape = {self.pe[:, :x.size(1), :].size()}')\n",
    "       x = x + self.pe[:, :x.size(1), :]\n",
    "\n",
    "       return x\n",
    "\n",
    "        "
   ]
  },
  {
   "cell_type": "code",
   "execution_count": 16,
   "id": "c1a6ca10-b75d-4998-9d93-51bc2b0843a3",
   "metadata": {},
   "outputs": [],
   "source": [
    "class FeedForward(nn.Module):\n",
    "    def __init__(self, d_model, d_ff, dropout=0.1):\n",
    "        super().__init__()\n",
    "        self.fc1 = nn.Linear(d_model, d_ff)\n",
    "        self.fc2 = nn.Linear(d_ff, d_model)\n",
    "        self.relu = nn.ReLU()\n",
    "        self.dropout = nn.Dropout(dropout)\n",
    "\n",
    "    def forward(self, x):\n",
    "        out = self.relu(self.fc1(x))\n",
    "        return self.fc2(self.dropout(out))\n",
    "        \n",
    "\n",
    "class DecoderBlock(nn.Module):\n",
    "    def __init__(self, d_model, nhead, d_ff, dropout):\n",
    "        super().__init__()\n",
    "        self.attention =  nn.MultiheadAttention(embed_dim=d_model, num_heads=nhead, dropout=dropout, batch_first=True)\n",
    "        self.norm1 = nn.LayerNorm(d_model)\n",
    "        self.dropout1 = nn.Dropout(dropout)\n",
    "        self.feedforward = FeedForward(d_model, d_ff, dropout)\n",
    "        self.norm2 = nn.LayerNorm(d_model)\n",
    "        self.dropout2 = nn.Dropout(dropout)\n",
    "\n",
    "    def forward(self, x, cache=None):\n",
    "        if cache is None:\n",
    "            attn_output, _ = self.attention(query=x, key=x, value=x, need_weights=False)\n",
    "            new_cache = {'key': x, 'value': x}\n",
    "        else:\n",
    "            attn_output, _ = self.attention(query=x, key=cache['key'], value=cache['value'], need_weights=False)\n",
    "            new_cache = {\n",
    "                'key': torch.cat([cache['key'], x], dim=1),\n",
    "                'value': torch.cat([cache['value'], x], dim=1)\n",
    "            }\n",
    "        out = self.norm1(x + self.dropout1(attn_output)) # residual connection\n",
    "        feedforward_output = self.feedforward(out)\n",
    "        return self.norm2(out + self.dropout2(feedforward_output)), new_cache\n",
    "\n",
    "\n",
    "class GumbelSoftmax(nn.Module):\n",
    "    def __init__(self):\n",
    "        super().__init__()\n",
    "\n",
    "    def forward(self, logits, tau=1.0):\n",
    "        gumbel_noise = -torch.log(-torch.log(torch.rand_like(logits) + 1e-20))\n",
    "        y = F.softmax((logits + gumbel_noise) / tau, dim=-1)\n",
    "        return y\n",
    "    \n",
    "\n",
    "class Generator(nn.Module):\n",
    "    def __init__(self, d_model=512, num_decoder_layers=6, nhead=8, d_ff=2048, dropout=0.1, maxlen=200, vocab_size=10000):\n",
    "        super().__init__()\n",
    "        self.d_model = d_model\n",
    "        self.embedding = nn.Embedding(vocab_size, self.d_model)\n",
    "        self.pos_encoder = PositionalEncoding(self.d_model, maxlen)\n",
    "        self.decoder_blocks = nn.ModuleList([\n",
    "            DecoderBlock(self.d_model, nhead, d_ff, dropout) for _ in range(num_decoder_layers)\n",
    "        ])\n",
    "        self.fc = nn.Linear(self.d_model, vocab_size)\n",
    "        self.dropout = nn.Dropout(dropout)\n",
    "        self.gumbel_softmax = GumbelSoftmax()\n",
    "\n",
    "    def forward(self, x, max_seq_len=200):\n",
    "        # x.shape = (BATCH_SIZE, 1)\n",
    "        first_iter = True\n",
    "        curr_seq_len = 0\n",
    "        output_seq = x.clone()\n",
    "        generator_seq = self.embedding(x)  # Начальная последовательность эмбеддингов\n",
    "        last_token = x[:, 0]\n",
    "        padding_mask = torch.zeros(x.shape[0], 1, dtype=torch.long).to(device)\n",
    "        eos_in_batch_counts = torch.ones(x.shape[0], dtype=torch.long).to(device)\n",
    "        cache = [None] * len(self.decoder_blocks)\n",
    "        with torch.cuda.amp.autocast():  # Используем FP16\n",
    "            while curr_seq_len < max_seq_len and not torch.all(eos_in_batch_counts >= 2):\n",
    "                out = self.dropout(self.pos_encoder(generator_seq))\n",
    "                for i, decoder_block in enumerate(self.decoder_blocks):\n",
    "                    out, cache[i] = decoder_block(out[:, -1:], cache[i])  # Обрабатываем только последний токен\n",
    "                logits = self.fc(out[:, -1, :])  # Логиты для последнего токена\n",
    "                soft_token = self.gumbel_softmax(logits, tau=0.5)\n",
    "                next_embedding = torch.matmul(soft_token, self.embedding.weight).unsqueeze(1)\n",
    "                generator_seq = torch.cat([generator_seq, next_embedding], dim=1)\n",
    "\n",
    "                tokens = soft_token.argmax(dim=-1)\n",
    "                output_seq = torch.cat([output_seq, tokens.unsqueeze(1)], dim=1)\n",
    "                padding_mask = torch.cat([padding_mask, torch.where(eos_in_batch_counts >= 2, 1, 0).unsqueeze(1)], dim=1)\n",
    "                eos_in_batch_counts[torch.where(tokens == eos_token_id)[0]] += 1\n",
    "                curr_seq_len += 1\n",
    "        \n",
    "        return generator_seq, output_seq, padding_mask\n",
    "\n",
    "    # def forward(self, x, attn_mask=None):\n",
    "    #     out = self.embedding(x)\n",
    "    #     out = self.dropout(self.pos_encoder(out))\n",
    "    #     for decoder_block in self.decoder_blocks:\n",
    "    #         out = decoder_block(out, attn_mask)\n",
    "    #     return out\n",
    "            \n",
    "        "
   ]
  },
  {
   "cell_type": "code",
   "execution_count": 17,
   "id": "dfd24513-dcc9-4f4a-862a-71e414004c70",
   "metadata": {},
   "outputs": [],
   "source": [
    "class Discriminator(nn.Module):\n",
    "    def __init__(self, d_model=512, num_encoder_layers=6, nhead=8, maxlen=200, vocab_size=10000):\n",
    "        super().__init__()\n",
    "        self.embedding = nn.Embedding(vocab_size, d_model)\n",
    "        self.pos_encoder = PositionalEncoding(d_model, maxlen)\n",
    "        encoder_layer = nn.TransformerEncoderLayer(d_model=d_model, nhead=nhead, batch_first=True)\n",
    "        self.transformer_encoder = nn.TransformerEncoder(encoder_layer, num_layers=num_encoder_layers)\n",
    "        self.fc = nn.Linear(d_model, 1)\n",
    "\n",
    "    def forward(self, x, real_data = False, src_key_padding_mask=None):\n",
    "        if real_data:\n",
    "            x = self.embedding(x)\n",
    "        out = self.pos_encoder(x)\n",
    "        out = self.transformer_encoder(out, src_key_padding_mask=src_key_padding_mask)\n",
    "        out = out.mean(dim=1)\n",
    "        return self.fc(out)\n",
    "        "
   ]
  },
  {
   "cell_type": "code",
   "execution_count": 18,
   "id": "62b15844-31f2-4bc7-aa7e-b813e5827d11",
   "metadata": {},
   "outputs": [],
   "source": [
    "def create_padding_mask(src, padding_value=0):\n",
    "    return src == padding_value"
   ]
  },
  {
   "cell_type": "code",
   "execution_count": 19,
   "id": "cd0341ed-6dff-4a59-93cd-f4ee4d38ea28",
   "metadata": {},
   "outputs": [],
   "source": [
    "def create_combined_mask(x, padding_token):\n",
    "    batch_size, seq_len = x.size()\n",
    "    device = x.device\n",
    "\n",
    "    padding_mask = (x != paddng_token).float()\n",
    "    causal_mask = torch.tril(torch.ones(seq_len, seq_len, device=device))\n",
    "    \n",
    "    padding_mask = padding_mask.unsqueeze(1).unsqueeze(2)  # [batch_size, 1, 1, seq_len]\n",
    "    combined_mask = torch.where(\n",
    "        (causal_mask == 1) & (padding_mask == 1),\n",
    "        torch.tensor(0.0, device=device),\n",
    "        torch.tensor(float('-inf'), device=device)\n",
    "    )\n",
    "    \n",
    "    return combined_mask"
   ]
  },
  {
   "cell_type": "markdown",
   "id": "a57d662f-76ee-4d4c-971e-a2711e4f2a11",
   "metadata": {},
   "source": [
    "# Dataset"
   ]
  },
  {
   "cell_type": "code",
   "execution_count": 20,
   "id": "55263cbc-3bbe-4072-bb6f-4f6067132454",
   "metadata": {},
   "outputs": [],
   "source": [
    "class TextDataset:\n",
    "    def __init__(self, df, maxlen=200):\n",
    "        self.maxlen = maxlen\n",
    "        df['Tokenized'] = df['Tokenized'].apply(lambda x: self._pad_sequence(x[:200]))\n",
    "        self.data = df['Tokenized'].to_numpy()\n",
    "    \n",
    "    def _pad_sequence(self, x):\n",
    "        pad_id = tokenizer.token_to_id(\"[PAD]\")\n",
    "        x += [pad_id] * (self.maxlen - len(x))\n",
    "        return x\n",
    "        \n",
    "\n",
    "    def __getitem__(self, idx):\n",
    "        return self.data[idx]\n",
    "\n",
    "    def __len__(self):\n",
    "        return len(self.data)"
   ]
  },
  {
   "cell_type": "code",
   "execution_count": 21,
   "id": "c5813782-9643-4307-a80b-cb9923db497e",
   "metadata": {},
   "outputs": [],
   "source": [
    "from torch.utils.data import DataLoader, random_split\n",
    "\n",
    "TRAIN_SIZE = 0.9\n",
    "BATCH_SIZE = 128\n",
    "\n",
    "dataset = TextDataset(df)\n",
    "trainset, valset = random_split(dataset, [TRAIN_SIZE, 1 - TRAIN_SIZE])\n",
    "trainloader = DataLoader(trainset, batch_size=BATCH_SIZE, shuffle=True)\n",
    "valloader = DataLoader(valset, batch_size=BATCH_SIZE, shuffle=True)"
   ]
  },
  {
   "cell_type": "markdown",
   "id": "7fe2ac01-7753-4371-8683-c6c3a9283153",
   "metadata": {},
   "source": [
    "# Auxiliary"
   ]
  },
  {
   "cell_type": "code",
   "execution_count": 22,
   "id": "eb8c551a-f879-4c31-944a-781d6725b268",
   "metadata": {},
   "outputs": [],
   "source": [
    "class EarlyStopping:\n",
    "    def __init__(self, patience=5, min_delta=0.001):\n",
    "        self.patience = patience\n",
    "        self.min_delta = min_delta\n",
    "        self.best_loss = float('inf')\n",
    "        self.counter = 0\n",
    "\n",
    "    def __call__(self, val_loss):\n",
    "        if val_loss < self.best_loss - self.min_delta:\n",
    "            self.best_loss = val_loss\n",
    "            self.counter = 0 \n",
    "        else:\n",
    "            self.counter += 1\n",
    "            if self.counter >= self.patience:\n",
    "                print(\"Early stopping triggered\")\n",
    "                return True\n",
    "        return False"
   ]
  },
  {
   "cell_type": "markdown",
   "id": "ebcfb0dc-b811-4583-9722-2bf9580c68ab",
   "metadata": {},
   "source": [
    "# Train loop"
   ]
  },
  {
   "cell_type": "code",
   "execution_count": 23,
   "id": "7d13af63-6ea6-421f-b789-b16c3c822b76",
   "metadata": {},
   "outputs": [
    {
     "data": {
      "text/plain": [
       "'cuda:0'"
      ]
     },
     "execution_count": 23,
     "metadata": {},
     "output_type": "execute_result"
    }
   ],
   "source": [
    "if torch.cuda.is_available():\n",
    "    device = 'cuda:0'\n",
    "else:\n",
    "    device = 'cpu'\n",
    "\n",
    "device"
   ]
  },
  {
   "cell_type": "code",
   "execution_count": 24,
   "id": "27d7bc8c-fcd0-40f2-bab4-b29afbf70223",
   "metadata": {},
   "outputs": [
    {
     "name": "stdout",
     "output_type": "stream",
     "text": [
      "Starting at 8.5.2025 21:9...\n",
      "Warmup steps: 56, training steps: 5650\n"
     ]
    },
    {
     "name": "stderr",
     "output_type": "stream",
     "text": [
      "C:\\Users\\georg\\AppData\\Local\\Temp\\ipykernel_22960\\4067392916.py:15: FutureWarning: `torch.cuda.amp.GradScaler(args...)` is deprecated. Please use `torch.amp.GradScaler('cuda', args...)` instead.\n",
      "  scaler = GradScaler()\n"
     ]
    },
    {
     "data": {
      "application/vnd.jupyter.widget-view+json": {
       "model_id": "c2af727e92f247e680a7a3699a0c7ab1",
       "version_major": 2,
       "version_minor": 0
      },
      "text/plain": [
       "  0%|          | 0/50 [00:00<?, ?it/s]"
      ]
     },
     "metadata": {},
     "output_type": "display_data"
    },
    {
     "name": "stderr",
     "output_type": "stream",
     "text": [
      "C:\\Users\\georg\\AppData\\Local\\Temp\\ipykernel_22960\\4067392916.py:65: FutureWarning: `torch.cuda.amp.autocast(args...)` is deprecated. Please use `torch.amp.autocast('cuda', args...)` instead.\n",
      "  with autocast():\n"
     ]
    },
    {
     "ename": "OutOfMemoryError",
     "evalue": "CUDA out of memory. Tried to allocate 20.00 MiB. GPU 0 has a total capacity of 6.00 GiB of which 0 bytes is free. Of the allocated memory 12.14 GiB is allocated by PyTorch, and 566.56 MiB is reserved by PyTorch but unallocated. If reserved but unallocated memory is large try setting PYTORCH_CUDA_ALLOC_CONF=expandable_segments:True to avoid fragmentation.  See documentation for Memory Management  (https://pytorch.org/docs/stable/notes/cuda.html#environment-variables)",
     "output_type": "error",
     "traceback": [
      "\u001b[1;31m---------------------------------------------------------------------------\u001b[0m",
      "\u001b[1;31mOutOfMemoryError\u001b[0m                          Traceback (most recent call last)",
      "Cell \u001b[1;32mIn[24], line 66\u001b[0m\n\u001b[0;32m     64\u001b[0m \u001b[38;5;66;03m# combined_mask = create_combined_mask(noise, padding_value=tokenizer.token_to_id(\"[PAD]\")).to(device)\u001b[39;00m\n\u001b[0;32m     65\u001b[0m \u001b[38;5;28;01mwith\u001b[39;00m autocast():\n\u001b[1;32m---> 66\u001b[0m     generator_out, _, generator_padding_mask \u001b[38;5;241m=\u001b[39m \u001b[43mgenerator\u001b[49m\u001b[43m(\u001b[49m\u001b[43mnoise\u001b[49m\u001b[43m)\u001b[49m\n\u001b[0;32m     68\u001b[0m     disc_pos_out \u001b[38;5;241m=\u001b[39m discriminator(generator_out, real_data\u001b[38;5;241m=\u001b[39m\u001b[38;5;28;01mFalse\u001b[39;00m, src_key_padding_mask\u001b[38;5;241m=\u001b[39mgenerator_padding_mask)\n\u001b[0;32m     69\u001b[0m     disc_neg_out \u001b[38;5;241m=\u001b[39m discriminator(data, real_data\u001b[38;5;241m=\u001b[39m\u001b[38;5;28;01mTrue\u001b[39;00m, src_key_padding_mask\u001b[38;5;241m=\u001b[39mdata_padding_mask)\n",
      "File \u001b[1;32m~\\AppData\\Local\\Programs\\Python\\Python311\\Lib\\site-packages\\torch\\nn\\modules\\module.py:1739\u001b[0m, in \u001b[0;36mModule._wrapped_call_impl\u001b[1;34m(self, *args, **kwargs)\u001b[0m\n\u001b[0;32m   1737\u001b[0m     \u001b[38;5;28;01mreturn\u001b[39;00m \u001b[38;5;28mself\u001b[39m\u001b[38;5;241m.\u001b[39m_compiled_call_impl(\u001b[38;5;241m*\u001b[39margs, \u001b[38;5;241m*\u001b[39m\u001b[38;5;241m*\u001b[39mkwargs)  \u001b[38;5;66;03m# type: ignore[misc]\u001b[39;00m\n\u001b[0;32m   1738\u001b[0m \u001b[38;5;28;01melse\u001b[39;00m:\n\u001b[1;32m-> 1739\u001b[0m     \u001b[38;5;28;01mreturn\u001b[39;00m \u001b[38;5;28;43mself\u001b[39;49m\u001b[38;5;241;43m.\u001b[39;49m\u001b[43m_call_impl\u001b[49m\u001b[43m(\u001b[49m\u001b[38;5;241;43m*\u001b[39;49m\u001b[43margs\u001b[49m\u001b[43m,\u001b[49m\u001b[43m \u001b[49m\u001b[38;5;241;43m*\u001b[39;49m\u001b[38;5;241;43m*\u001b[39;49m\u001b[43mkwargs\u001b[49m\u001b[43m)\u001b[49m\n",
      "File \u001b[1;32m~\\AppData\\Local\\Programs\\Python\\Python311\\Lib\\site-packages\\torch\\nn\\modules\\module.py:1750\u001b[0m, in \u001b[0;36mModule._call_impl\u001b[1;34m(self, *args, **kwargs)\u001b[0m\n\u001b[0;32m   1745\u001b[0m \u001b[38;5;66;03m# If we don't have any hooks, we want to skip the rest of the logic in\u001b[39;00m\n\u001b[0;32m   1746\u001b[0m \u001b[38;5;66;03m# this function, and just call forward.\u001b[39;00m\n\u001b[0;32m   1747\u001b[0m \u001b[38;5;28;01mif\u001b[39;00m \u001b[38;5;129;01mnot\u001b[39;00m (\u001b[38;5;28mself\u001b[39m\u001b[38;5;241m.\u001b[39m_backward_hooks \u001b[38;5;129;01mor\u001b[39;00m \u001b[38;5;28mself\u001b[39m\u001b[38;5;241m.\u001b[39m_backward_pre_hooks \u001b[38;5;129;01mor\u001b[39;00m \u001b[38;5;28mself\u001b[39m\u001b[38;5;241m.\u001b[39m_forward_hooks \u001b[38;5;129;01mor\u001b[39;00m \u001b[38;5;28mself\u001b[39m\u001b[38;5;241m.\u001b[39m_forward_pre_hooks\n\u001b[0;32m   1748\u001b[0m         \u001b[38;5;129;01mor\u001b[39;00m _global_backward_pre_hooks \u001b[38;5;129;01mor\u001b[39;00m _global_backward_hooks\n\u001b[0;32m   1749\u001b[0m         \u001b[38;5;129;01mor\u001b[39;00m _global_forward_hooks \u001b[38;5;129;01mor\u001b[39;00m _global_forward_pre_hooks):\n\u001b[1;32m-> 1750\u001b[0m     \u001b[38;5;28;01mreturn\u001b[39;00m \u001b[43mforward_call\u001b[49m\u001b[43m(\u001b[49m\u001b[38;5;241;43m*\u001b[39;49m\u001b[43margs\u001b[49m\u001b[43m,\u001b[49m\u001b[43m \u001b[49m\u001b[38;5;241;43m*\u001b[39;49m\u001b[38;5;241;43m*\u001b[39;49m\u001b[43mkwargs\u001b[49m\u001b[43m)\u001b[49m\n\u001b[0;32m   1752\u001b[0m result \u001b[38;5;241m=\u001b[39m \u001b[38;5;28;01mNone\u001b[39;00m\n\u001b[0;32m   1753\u001b[0m called_always_called_hooks \u001b[38;5;241m=\u001b[39m \u001b[38;5;28mset\u001b[39m()\n",
      "Cell \u001b[1;32mIn[16], line 73\u001b[0m, in \u001b[0;36mGenerator.forward\u001b[1;34m(self, x, max_seq_len)\u001b[0m\n\u001b[0;32m     71\u001b[0m out \u001b[38;5;241m=\u001b[39m \u001b[38;5;28mself\u001b[39m\u001b[38;5;241m.\u001b[39mdropout(\u001b[38;5;28mself\u001b[39m\u001b[38;5;241m.\u001b[39mpos_encoder(out))\n\u001b[0;32m     72\u001b[0m \u001b[38;5;28;01mfor\u001b[39;00m decoder_block \u001b[38;5;129;01min\u001b[39;00m \u001b[38;5;28mself\u001b[39m\u001b[38;5;241m.\u001b[39mdecoder_blocks:\n\u001b[1;32m---> 73\u001b[0m     out \u001b[38;5;241m=\u001b[39m \u001b[43mdecoder_block\u001b[49m\u001b[43m(\u001b[49m\u001b[43mout\u001b[49m\u001b[43m)\u001b[49m\n\u001b[0;32m     74\u001b[0m out \u001b[38;5;241m=\u001b[39m \u001b[38;5;28mself\u001b[39m\u001b[38;5;241m.\u001b[39mfc(out[:, \u001b[38;5;241m-\u001b[39m\u001b[38;5;241m1\u001b[39m, :]) \u001b[38;5;66;03m# out.shape = (BATCH_SIZE, vocab_size)\u001b[39;00m\n\u001b[0;32m     76\u001b[0m soft_token \u001b[38;5;241m=\u001b[39m \u001b[38;5;28mself\u001b[39m\u001b[38;5;241m.\u001b[39mgumbel_softmax(out, tau\u001b[38;5;241m=\u001b[39m\u001b[38;5;241m0.5\u001b[39m) \u001b[38;5;66;03m# soft_token.shape = (BATCH_SIZE, vocab_size)\u001b[39;00m\n",
      "File \u001b[1;32m~\\AppData\\Local\\Programs\\Python\\Python311\\Lib\\site-packages\\torch\\nn\\modules\\module.py:1739\u001b[0m, in \u001b[0;36mModule._wrapped_call_impl\u001b[1;34m(self, *args, **kwargs)\u001b[0m\n\u001b[0;32m   1737\u001b[0m     \u001b[38;5;28;01mreturn\u001b[39;00m \u001b[38;5;28mself\u001b[39m\u001b[38;5;241m.\u001b[39m_compiled_call_impl(\u001b[38;5;241m*\u001b[39margs, \u001b[38;5;241m*\u001b[39m\u001b[38;5;241m*\u001b[39mkwargs)  \u001b[38;5;66;03m# type: ignore[misc]\u001b[39;00m\n\u001b[0;32m   1738\u001b[0m \u001b[38;5;28;01melse\u001b[39;00m:\n\u001b[1;32m-> 1739\u001b[0m     \u001b[38;5;28;01mreturn\u001b[39;00m \u001b[38;5;28;43mself\u001b[39;49m\u001b[38;5;241;43m.\u001b[39;49m\u001b[43m_call_impl\u001b[49m\u001b[43m(\u001b[49m\u001b[38;5;241;43m*\u001b[39;49m\u001b[43margs\u001b[49m\u001b[43m,\u001b[49m\u001b[43m \u001b[49m\u001b[38;5;241;43m*\u001b[39;49m\u001b[38;5;241;43m*\u001b[39;49m\u001b[43mkwargs\u001b[49m\u001b[43m)\u001b[49m\n",
      "File \u001b[1;32m~\\AppData\\Local\\Programs\\Python\\Python311\\Lib\\site-packages\\torch\\nn\\modules\\module.py:1750\u001b[0m, in \u001b[0;36mModule._call_impl\u001b[1;34m(self, *args, **kwargs)\u001b[0m\n\u001b[0;32m   1745\u001b[0m \u001b[38;5;66;03m# If we don't have any hooks, we want to skip the rest of the logic in\u001b[39;00m\n\u001b[0;32m   1746\u001b[0m \u001b[38;5;66;03m# this function, and just call forward.\u001b[39;00m\n\u001b[0;32m   1747\u001b[0m \u001b[38;5;28;01mif\u001b[39;00m \u001b[38;5;129;01mnot\u001b[39;00m (\u001b[38;5;28mself\u001b[39m\u001b[38;5;241m.\u001b[39m_backward_hooks \u001b[38;5;129;01mor\u001b[39;00m \u001b[38;5;28mself\u001b[39m\u001b[38;5;241m.\u001b[39m_backward_pre_hooks \u001b[38;5;129;01mor\u001b[39;00m \u001b[38;5;28mself\u001b[39m\u001b[38;5;241m.\u001b[39m_forward_hooks \u001b[38;5;129;01mor\u001b[39;00m \u001b[38;5;28mself\u001b[39m\u001b[38;5;241m.\u001b[39m_forward_pre_hooks\n\u001b[0;32m   1748\u001b[0m         \u001b[38;5;129;01mor\u001b[39;00m _global_backward_pre_hooks \u001b[38;5;129;01mor\u001b[39;00m _global_backward_hooks\n\u001b[0;32m   1749\u001b[0m         \u001b[38;5;129;01mor\u001b[39;00m _global_forward_hooks \u001b[38;5;129;01mor\u001b[39;00m _global_forward_pre_hooks):\n\u001b[1;32m-> 1750\u001b[0m     \u001b[38;5;28;01mreturn\u001b[39;00m \u001b[43mforward_call\u001b[49m\u001b[43m(\u001b[49m\u001b[38;5;241;43m*\u001b[39;49m\u001b[43margs\u001b[49m\u001b[43m,\u001b[49m\u001b[43m \u001b[49m\u001b[38;5;241;43m*\u001b[39;49m\u001b[38;5;241;43m*\u001b[39;49m\u001b[43mkwargs\u001b[49m\u001b[43m)\u001b[49m\n\u001b[0;32m   1752\u001b[0m result \u001b[38;5;241m=\u001b[39m \u001b[38;5;28;01mNone\u001b[39;00m\n\u001b[0;32m   1753\u001b[0m called_always_called_hooks \u001b[38;5;241m=\u001b[39m \u001b[38;5;28mset\u001b[39m()\n",
      "Cell \u001b[1;32mIn[16], line 27\u001b[0m, in \u001b[0;36mDecoderBlock.forward\u001b[1;34m(self, x)\u001b[0m\n\u001b[0;32m     25\u001b[0m attn_output, _ \u001b[38;5;241m=\u001b[39m \u001b[38;5;28mself\u001b[39m\u001b[38;5;241m.\u001b[39mattention(query\u001b[38;5;241m=\u001b[39mx, key\u001b[38;5;241m=\u001b[39mx, value\u001b[38;5;241m=\u001b[39mx, attn_mask\u001b[38;5;241m=\u001b[39m\u001b[38;5;28;01mNone\u001b[39;00m, need_weights\u001b[38;5;241m=\u001b[39m\u001b[38;5;28;01mFalse\u001b[39;00m)\n\u001b[0;32m     26\u001b[0m out \u001b[38;5;241m=\u001b[39m \u001b[38;5;28mself\u001b[39m\u001b[38;5;241m.\u001b[39mnorm1(x \u001b[38;5;241m+\u001b[39m \u001b[38;5;28mself\u001b[39m\u001b[38;5;241m.\u001b[39mdropout1(attn_output)) \u001b[38;5;66;03m# residual connection\u001b[39;00m\n\u001b[1;32m---> 27\u001b[0m feedforward_output \u001b[38;5;241m=\u001b[39m \u001b[38;5;28;43mself\u001b[39;49m\u001b[38;5;241;43m.\u001b[39;49m\u001b[43mfeedforward\u001b[49m\u001b[43m(\u001b[49m\u001b[43mout\u001b[49m\u001b[43m)\u001b[49m\n\u001b[0;32m     28\u001b[0m \u001b[38;5;28;01mreturn\u001b[39;00m \u001b[38;5;28mself\u001b[39m\u001b[38;5;241m.\u001b[39mnorm2(out \u001b[38;5;241m+\u001b[39m \u001b[38;5;28mself\u001b[39m\u001b[38;5;241m.\u001b[39mdropout2(feedforward_output))\n",
      "File \u001b[1;32m~\\AppData\\Local\\Programs\\Python\\Python311\\Lib\\site-packages\\torch\\nn\\modules\\module.py:1739\u001b[0m, in \u001b[0;36mModule._wrapped_call_impl\u001b[1;34m(self, *args, **kwargs)\u001b[0m\n\u001b[0;32m   1737\u001b[0m     \u001b[38;5;28;01mreturn\u001b[39;00m \u001b[38;5;28mself\u001b[39m\u001b[38;5;241m.\u001b[39m_compiled_call_impl(\u001b[38;5;241m*\u001b[39margs, \u001b[38;5;241m*\u001b[39m\u001b[38;5;241m*\u001b[39mkwargs)  \u001b[38;5;66;03m# type: ignore[misc]\u001b[39;00m\n\u001b[0;32m   1738\u001b[0m \u001b[38;5;28;01melse\u001b[39;00m:\n\u001b[1;32m-> 1739\u001b[0m     \u001b[38;5;28;01mreturn\u001b[39;00m \u001b[38;5;28;43mself\u001b[39;49m\u001b[38;5;241;43m.\u001b[39;49m\u001b[43m_call_impl\u001b[49m\u001b[43m(\u001b[49m\u001b[38;5;241;43m*\u001b[39;49m\u001b[43margs\u001b[49m\u001b[43m,\u001b[49m\u001b[43m \u001b[49m\u001b[38;5;241;43m*\u001b[39;49m\u001b[38;5;241;43m*\u001b[39;49m\u001b[43mkwargs\u001b[49m\u001b[43m)\u001b[49m\n",
      "File \u001b[1;32m~\\AppData\\Local\\Programs\\Python\\Python311\\Lib\\site-packages\\torch\\nn\\modules\\module.py:1750\u001b[0m, in \u001b[0;36mModule._call_impl\u001b[1;34m(self, *args, **kwargs)\u001b[0m\n\u001b[0;32m   1745\u001b[0m \u001b[38;5;66;03m# If we don't have any hooks, we want to skip the rest of the logic in\u001b[39;00m\n\u001b[0;32m   1746\u001b[0m \u001b[38;5;66;03m# this function, and just call forward.\u001b[39;00m\n\u001b[0;32m   1747\u001b[0m \u001b[38;5;28;01mif\u001b[39;00m \u001b[38;5;129;01mnot\u001b[39;00m (\u001b[38;5;28mself\u001b[39m\u001b[38;5;241m.\u001b[39m_backward_hooks \u001b[38;5;129;01mor\u001b[39;00m \u001b[38;5;28mself\u001b[39m\u001b[38;5;241m.\u001b[39m_backward_pre_hooks \u001b[38;5;129;01mor\u001b[39;00m \u001b[38;5;28mself\u001b[39m\u001b[38;5;241m.\u001b[39m_forward_hooks \u001b[38;5;129;01mor\u001b[39;00m \u001b[38;5;28mself\u001b[39m\u001b[38;5;241m.\u001b[39m_forward_pre_hooks\n\u001b[0;32m   1748\u001b[0m         \u001b[38;5;129;01mor\u001b[39;00m _global_backward_pre_hooks \u001b[38;5;129;01mor\u001b[39;00m _global_backward_hooks\n\u001b[0;32m   1749\u001b[0m         \u001b[38;5;129;01mor\u001b[39;00m _global_forward_hooks \u001b[38;5;129;01mor\u001b[39;00m _global_forward_pre_hooks):\n\u001b[1;32m-> 1750\u001b[0m     \u001b[38;5;28;01mreturn\u001b[39;00m \u001b[43mforward_call\u001b[49m\u001b[43m(\u001b[49m\u001b[38;5;241;43m*\u001b[39;49m\u001b[43margs\u001b[49m\u001b[43m,\u001b[49m\u001b[43m \u001b[49m\u001b[38;5;241;43m*\u001b[39;49m\u001b[38;5;241;43m*\u001b[39;49m\u001b[43mkwargs\u001b[49m\u001b[43m)\u001b[49m\n\u001b[0;32m   1752\u001b[0m result \u001b[38;5;241m=\u001b[39m \u001b[38;5;28;01mNone\u001b[39;00m\n\u001b[0;32m   1753\u001b[0m called_always_called_hooks \u001b[38;5;241m=\u001b[39m \u001b[38;5;28mset\u001b[39m()\n",
      "Cell \u001b[1;32mIn[16], line 10\u001b[0m, in \u001b[0;36mFeedForward.forward\u001b[1;34m(self, x)\u001b[0m\n\u001b[0;32m      9\u001b[0m \u001b[38;5;28;01mdef\u001b[39;00m \u001b[38;5;21mforward\u001b[39m(\u001b[38;5;28mself\u001b[39m, x):\n\u001b[1;32m---> 10\u001b[0m     out \u001b[38;5;241m=\u001b[39m \u001b[38;5;28mself\u001b[39m\u001b[38;5;241m.\u001b[39mrelu(\u001b[38;5;28;43mself\u001b[39;49m\u001b[38;5;241;43m.\u001b[39;49m\u001b[43mfc1\u001b[49m\u001b[43m(\u001b[49m\u001b[43mx\u001b[49m\u001b[43m)\u001b[49m)\n\u001b[0;32m     11\u001b[0m     \u001b[38;5;28;01mreturn\u001b[39;00m \u001b[38;5;28mself\u001b[39m\u001b[38;5;241m.\u001b[39mfc2(\u001b[38;5;28mself\u001b[39m\u001b[38;5;241m.\u001b[39mdropout(out))\n",
      "File \u001b[1;32m~\\AppData\\Local\\Programs\\Python\\Python311\\Lib\\site-packages\\torch\\nn\\modules\\module.py:1739\u001b[0m, in \u001b[0;36mModule._wrapped_call_impl\u001b[1;34m(self, *args, **kwargs)\u001b[0m\n\u001b[0;32m   1737\u001b[0m     \u001b[38;5;28;01mreturn\u001b[39;00m \u001b[38;5;28mself\u001b[39m\u001b[38;5;241m.\u001b[39m_compiled_call_impl(\u001b[38;5;241m*\u001b[39margs, \u001b[38;5;241m*\u001b[39m\u001b[38;5;241m*\u001b[39mkwargs)  \u001b[38;5;66;03m# type: ignore[misc]\u001b[39;00m\n\u001b[0;32m   1738\u001b[0m \u001b[38;5;28;01melse\u001b[39;00m:\n\u001b[1;32m-> 1739\u001b[0m     \u001b[38;5;28;01mreturn\u001b[39;00m \u001b[38;5;28;43mself\u001b[39;49m\u001b[38;5;241;43m.\u001b[39;49m\u001b[43m_call_impl\u001b[49m\u001b[43m(\u001b[49m\u001b[38;5;241;43m*\u001b[39;49m\u001b[43margs\u001b[49m\u001b[43m,\u001b[49m\u001b[43m \u001b[49m\u001b[38;5;241;43m*\u001b[39;49m\u001b[38;5;241;43m*\u001b[39;49m\u001b[43mkwargs\u001b[49m\u001b[43m)\u001b[49m\n",
      "File \u001b[1;32m~\\AppData\\Local\\Programs\\Python\\Python311\\Lib\\site-packages\\torch\\nn\\modules\\module.py:1750\u001b[0m, in \u001b[0;36mModule._call_impl\u001b[1;34m(self, *args, **kwargs)\u001b[0m\n\u001b[0;32m   1745\u001b[0m \u001b[38;5;66;03m# If we don't have any hooks, we want to skip the rest of the logic in\u001b[39;00m\n\u001b[0;32m   1746\u001b[0m \u001b[38;5;66;03m# this function, and just call forward.\u001b[39;00m\n\u001b[0;32m   1747\u001b[0m \u001b[38;5;28;01mif\u001b[39;00m \u001b[38;5;129;01mnot\u001b[39;00m (\u001b[38;5;28mself\u001b[39m\u001b[38;5;241m.\u001b[39m_backward_hooks \u001b[38;5;129;01mor\u001b[39;00m \u001b[38;5;28mself\u001b[39m\u001b[38;5;241m.\u001b[39m_backward_pre_hooks \u001b[38;5;129;01mor\u001b[39;00m \u001b[38;5;28mself\u001b[39m\u001b[38;5;241m.\u001b[39m_forward_hooks \u001b[38;5;129;01mor\u001b[39;00m \u001b[38;5;28mself\u001b[39m\u001b[38;5;241m.\u001b[39m_forward_pre_hooks\n\u001b[0;32m   1748\u001b[0m         \u001b[38;5;129;01mor\u001b[39;00m _global_backward_pre_hooks \u001b[38;5;129;01mor\u001b[39;00m _global_backward_hooks\n\u001b[0;32m   1749\u001b[0m         \u001b[38;5;129;01mor\u001b[39;00m _global_forward_hooks \u001b[38;5;129;01mor\u001b[39;00m _global_forward_pre_hooks):\n\u001b[1;32m-> 1750\u001b[0m     \u001b[38;5;28;01mreturn\u001b[39;00m \u001b[43mforward_call\u001b[49m\u001b[43m(\u001b[49m\u001b[38;5;241;43m*\u001b[39;49m\u001b[43margs\u001b[49m\u001b[43m,\u001b[49m\u001b[43m \u001b[49m\u001b[38;5;241;43m*\u001b[39;49m\u001b[38;5;241;43m*\u001b[39;49m\u001b[43mkwargs\u001b[49m\u001b[43m)\u001b[49m\n\u001b[0;32m   1752\u001b[0m result \u001b[38;5;241m=\u001b[39m \u001b[38;5;28;01mNone\u001b[39;00m\n\u001b[0;32m   1753\u001b[0m called_always_called_hooks \u001b[38;5;241m=\u001b[39m \u001b[38;5;28mset\u001b[39m()\n",
      "File \u001b[1;32m~\\AppData\\Local\\Programs\\Python\\Python311\\Lib\\site-packages\\torch\\nn\\modules\\linear.py:125\u001b[0m, in \u001b[0;36mLinear.forward\u001b[1;34m(self, input)\u001b[0m\n\u001b[0;32m    124\u001b[0m \u001b[38;5;28;01mdef\u001b[39;00m \u001b[38;5;21mforward\u001b[39m(\u001b[38;5;28mself\u001b[39m, \u001b[38;5;28minput\u001b[39m: Tensor) \u001b[38;5;241m-\u001b[39m\u001b[38;5;241m>\u001b[39m Tensor:\n\u001b[1;32m--> 125\u001b[0m     \u001b[38;5;28;01mreturn\u001b[39;00m \u001b[43mF\u001b[49m\u001b[38;5;241;43m.\u001b[39;49m\u001b[43mlinear\u001b[49m\u001b[43m(\u001b[49m\u001b[38;5;28;43minput\u001b[39;49m\u001b[43m,\u001b[49m\u001b[43m \u001b[49m\u001b[38;5;28;43mself\u001b[39;49m\u001b[38;5;241;43m.\u001b[39;49m\u001b[43mweight\u001b[49m\u001b[43m,\u001b[49m\u001b[43m \u001b[49m\u001b[38;5;28;43mself\u001b[39;49m\u001b[38;5;241;43m.\u001b[39;49m\u001b[43mbias\u001b[49m\u001b[43m)\u001b[49m\n",
      "\u001b[1;31mOutOfMemoryError\u001b[0m: CUDA out of memory. Tried to allocate 20.00 MiB. GPU 0 has a total capacity of 6.00 GiB of which 0 bytes is free. Of the allocated memory 12.14 GiB is allocated by PyTorch, and 566.56 MiB is reserved by PyTorch but unallocated. If reserved but unallocated memory is large try setting PYTORCH_CUDA_ALLOC_CONF=expandable_segments:True to avoid fragmentation.  See documentation for Memory Management  (https://pytorch.org/docs/stable/notes/cuda.html#environment-variables)"
     ]
    }
   ],
   "source": [
    "generator = Generator(num_decoder_layers=3, d_ff=1024).to(device)\n",
    "discriminator = Discriminator(num_encoder_layers=3).to(device)\n",
    "\n",
    "NUM_EP = 50\n",
    "LR = 1e-4\n",
    "WEIGHT_DECAY = 1e-4\n",
    "\n",
    "generator_optim = Adam(generator.parameters(), lr=LR, weight_decay=WEIGHT_DECAY)\n",
    "discriminator_optim = Adam(discriminator.parameters(), lr=LR, weight_decay=WEIGHT_DECAY)\n",
    "\n",
    "discriminator_criterion = nn.BCELoss()\n",
    "generator_criterion = nn.BCELoss()\n",
    "\n",
    "# Gradient scaler\n",
    "scaler = GradScaler()\n",
    "\n",
    "# Early stopping\n",
    "early_stopping = EarlyStopping(patience=10, min_delta=0.01)\n",
    "\n",
    "# LR scheduler with warmup\n",
    "num_training_steps = len(trainloader) * NUM_EP\n",
    "num_warmup_steps = int(len(trainloader) * 0.5)\n",
    "generator_scheduler = get_linear_schedule_with_warmup(\n",
    "    generator_optim,\n",
    "    num_warmup_steps=num_warmup_steps,\n",
    "    num_training_steps=num_training_steps\n",
    ")\n",
    "discriminator_scheduler = get_linear_schedule_with_warmup(\n",
    "    discriminator_optim,\n",
    "    num_warmup_steps=num_warmup_steps,\n",
    "    num_training_steps=num_training_steps\n",
    ")\n",
    "\n",
    "# Arrays for saving loss values\n",
    "train_gen_losses = []\n",
    "train_disc_losses = []\n",
    "val_disc_losses = []\n",
    "\n",
    "# Best loss value\n",
    "best_loss = float('inf')\n",
    "\n",
    "training_step = 0\n",
    "\n",
    "current_time = datetime.now()\n",
    "print('Starting at ' + f'{current_time.day}.{current_time.month}.{current_time.year} {current_time.hour}:{current_time.minute}...')\n",
    "print(f'Warmup steps: {num_warmup_steps}, training steps: {num_training_steps}')\n",
    "for epoch in tqdm(range(NUM_EP)):\n",
    "    # Train\n",
    "    generator.train()\n",
    "    discriminator.train()\n",
    "\n",
    "    running_gen_loss = 0\n",
    "    running_disc_loss = 0\n",
    "    \n",
    "    for data in trainloader:\n",
    "        # Padding mask to ignore <pad> (0) tokens\n",
    "        data_padding_mask = create_padding_mask(data, padding_value=tokenizer.token_to_id(\"[PAD]\"))\n",
    "        # Autocasting to fp16\n",
    "        # with autocast():\n",
    "        # Forward pass\n",
    "        # noise = torch.randint(low=0, high=vocab_size, size=(BATCH_SIZE, 1)).to(device)\n",
    "        noise = torch.tensor([tokenizer.token_to_id('[EOS]')] * BATCH_SIZE, dtype=torch.long).unsqueeze(1).to(device)\n",
    "\n",
    "        # combined_mask = create_combined_mask(noise, padding_value=tokenizer.token_to_id(\"[PAD]\")).to(device)\n",
    "        with autocast():\n",
    "            generator_out, _, generator_padding_mask = generator(noise)\n",
    "        \n",
    "            disc_pos_out = discriminator(generator_out, real_data=False, src_key_padding_mask=generator_padding_mask)\n",
    "            disc_neg_out = discriminator(data, real_data=True, src_key_padding_mask=data_padding_mask)\n",
    "\n",
    "            # Computing loss\n",
    "            disc_pos_loss = discriminator_criterion(disc_pos_out, torch.ones(BATCH_SIZE))\n",
    "            disc_neg_loss = discriminator_criterion(disc_neg_out, torch.zeros(BATCH_SIZE))\n",
    "            disc_loss = disc_pos_loss + disc_neg_loss\n",
    "\n",
    "            gen_loss = generator_criterion(disc_pos_out, torch.zeros(BATCH_SIZE))\n",
    "\n",
    "        # # Backward pass with scaled gradients\n",
    "        # scaler.scale(loss).backward()\n",
    "        # scaler.unscale_(optim)\n",
    "        \n",
    "        # # Gradient clipping\n",
    "        # torch.nn.utils.clip_grad_norm_(model.parameters(), max_norm=1.0)\n",
    "\n",
    "        # # Step of the optimizer\n",
    "        # scaler.step(optim)\n",
    "        # scaler.update()\n",
    "        \n",
    "        discriminator_optim.zero_grad()\n",
    "        scaler.scale(disc_loss).backward()\n",
    "        scaler.unscale_(discriminator_optim)\n",
    "        torch.nn.utils.clip_grad_norm_(discriminator.parameters(), max_norm=1.0)\n",
    "        scaler.step(discriminator_optim)\n",
    "        scaler.update()\n",
    "\n",
    "        generator_optim.zero_grad()\n",
    "        scaler.scale(gen_loss).backward()\n",
    "        scaler.unscale_(generator_optim)\n",
    "        torch.nn.utils.clip_grad_norm_(generator.parameters(), max_norm=1.0)\n",
    "        scaler.step(generator_optim)\n",
    "        scaler.update()\n",
    "\n",
    "        running_gen_loss += gen_loss.item()\n",
    "        running_disc_loss += disc_loss.item()\n",
    "\n",
    "        # LR scheduler step\n",
    "        generator_scheduler.step()\n",
    "        discriminator_scheduler.step()\n",
    "\n",
    "        if training_step % 1000 == 0 and training_step < num_warmup_steps:\n",
    "            current_time = datetime.now()\n",
    "            time = f'{current_time.day}.{current_time.month}.{current_time.year} {current_time.hour}:{current_time.minute}'\n",
    "            print(time + f'\\t\\tEpoch: {epoch}, training_step: {training_step}, LR = {generator_scheduler.get_last_lr()[0]}, train gen loss = {gen_loss.item():.3f}, train disc loss = {disc_loss.item():.3f}')\n",
    "        training_step += 1\n",
    "\n",
    "    train_gen_losses.append(running_gen_loss / len(trainloader))\n",
    "    train_disc_losses.append(running_disc_loss / len(trainloader))\n",
    "\n",
    "    # Validation\n",
    "    generator.eval()\n",
    "    discriminator.eval()\n",
    "    \n",
    "    running_disc_val_loss = 0\n",
    "    for data in valloader:\n",
    "        data_padding_mask = create_padding_mask(data, padding_value=tokenizer.token_to_id(\"[PAD]\"))\n",
    "        noise = torch.tensor([tokenizer.token_to_id('[EOS]')] * BATCH_SIZE, dtype=torch.long).unsqueeze(1).to(device)\n",
    "        with autocast():\n",
    "            generator_out, _, generator_padding_mask = generator(noise)\n",
    "            disc_pos_out = discriminator(generator_out, real_data=False, src_key_padding_mask=generator_padding_mask)\n",
    "            disc_neg_out = discriminator(data, real_data=True, src_key_padding_mask=data_padding_mask)\n",
    "            disc_pos_loss = discriminator_criterion(disc_pos_out, torch.ones(BATCH_SIZE))\n",
    "            disc_neg_loss = discriminator_criterion(disc_neg_out, torch.zeros(BATCH_SIZE))\n",
    "            disc_loss = disc_pos_loss + disc_neg_loss\n",
    "\n",
    "        running_disc_val_loss += disc_loss.item()\n",
    "\n",
    "    val_disc_losses.append(running_disc_val_loss / len(valloader))\n",
    "    \n",
    "    # Inferencing\n",
    "    noise = torch.tensor([tokenizer.token_to_id('[EOS]')] * 10, dtype=torch.long).unsqueeze(1).to(device)\n",
    "    with autocast():\n",
    "        _, output_seq, _ = generator(noise)\n",
    "    print(\"Generated texts: \")\n",
    "    for sequence in output_seq:\n",
    "        text = tokenizer.decode(sequence)\n",
    "        print(f'\\t{text}')\n",
    "\n",
    "    current_time = datetime.now()\n",
    "    time = f'{current_time.day}.{current_time.month}.{current_time.year} {current_time.hour}:{current_time.minute}'\n",
    "    print(time + f' Epoch: {epoch}, train gen loss: {train_gen_losses[-1]:.3f}, train disc loss: {train_disc_losses[-1]:.3f}, val disc loss: {val_disc_losses[-1]:.3f}')\n",
    "    \n",
    "            \n",
    "            "
   ]
  }
 ],
 "metadata": {
  "kernelspec": {
   "display_name": "Python 3 (ipykernel)",
   "language": "python",
   "name": "python3"
  },
  "language_info": {
   "codemirror_mode": {
    "name": "ipython",
    "version": 3
   },
   "file_extension": ".py",
   "mimetype": "text/x-python",
   "name": "python",
   "nbconvert_exporter": "python",
   "pygments_lexer": "ipython3",
   "version": "3.11.2"
  }
 },
 "nbformat": 4,
 "nbformat_minor": 5
}
